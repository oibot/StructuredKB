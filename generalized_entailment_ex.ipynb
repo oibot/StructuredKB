{
 "cells": [
  {
   "cell_type": "code",
   "execution_count": 5,
   "metadata": {
    "collapsed": false
   },
   "outputs": [
    {
     "name": "stdout",
     "output_type": "stream",
     "text": [
      "Solution: 0.0715859981986\n",
      "Probabilities:\n",
      "[[  2.38434429e-01]\n",
      " [  1.47281715e-11]\n",
      " [  1.18860860e-01]\n",
      " [  6.42704712e-01]]\n"
     ]
    }
   ],
   "source": [
    "import numpy as np\n",
    "import cvxpy as cvx\n",
    "\n",
    "p = cvx.Variable(4)\n",
    "A = np.array([[-0.8, -0.8, 0.2, 0.2],\n",
    "              [-0.6,  0.4,-0.6, 0.4],\n",
    "              [ 0.0,  0.0,-0.9, 0.1]])\n",
    "constraints = [0 <= p, cvx.sum_entries(p) == 1]\n",
    "objective = cvx.Minimize(cvx.norm(A*p))\n",
    "problem = cvx.Problem(objective, constraints)\n",
    "\n",
    "print \"Solution:\", problem.solve()\n",
    "print \"Probabilities:\"\n",
    "print p.value"
   ]
  },
  {
   "cell_type": "code",
   "execution_count": 6,
   "metadata": {
    "collapsed": false
   },
   "outputs": [
    {
     "name": "stdout",
     "output_type": "stream",
     "text": [
      "[[-0.03843443]\n",
      " [ 0.04270471]\n",
      " [-0.0427043 ]]\n"
     ]
    }
   ],
   "source": [
    "violation_vector = A * p.value\n",
    "print violation_vector"
   ]
  },
  {
   "cell_type": "code",
   "execution_count": 16,
   "metadata": {
    "collapsed": false,
    "scrolled": true
   },
   "outputs": [
    {
     "name": "stdout",
     "output_type": "stream",
     "text": [
      "[ 1.  1.  1.  1.]\n",
      "Lower Solution: 0.761565571454\n",
      "Lower State: optimal\n",
      "Upper Solution: 0.761565571466\n",
      "Upper State: optimal\n"
     ]
    }
   ],
   "source": [
    "x = cvx.Variable(4)\n",
    "y = cvx.Variable()\n",
    "\n",
    "verifying = np.array([0.0, 0.0, 1.0, 1.0])\n",
    "falsifying = np.array([1.0, 1.0, 0.0, 0.0])\n",
    "\n",
    "print verifying + falsifying\n",
    "\n",
    "lower = cvx.Minimize(verifying*x)\n",
    "constraints = [x >= 0, y >= 0,\n",
    "               A*x == y*violation_vector,\n",
    "               cvx.sum_entries(x) == y,\n",
    "               (verifying+falsifying)*x == 1]\n",
    "problem_lower = cvx.Problem(lower, constraints)\n",
    "\n",
    "upper = cvx.Maximize(verifying*x)\n",
    "problem_upper = cvx.Problem(upper, constraints)\n",
    "\n",
    "print \"Lower Solution:\", problem_lower.solve()\n",
    "print \"Lower State:\", problem_lower.status\n",
    "print \"Upper Solution:\", problem_upper.solve()\n",
    "print \"Upper State:\", problem_upper.status"
   ]
  },
  {
   "cell_type": "code",
   "execution_count": null,
   "metadata": {
    "collapsed": true
   },
   "outputs": [],
   "source": []
  }
 ],
 "metadata": {
  "kernelspec": {
   "display_name": "Python 2",
   "language": "python",
   "name": "python2"
  },
  "language_info": {
   "codemirror_mode": {
    "name": "ipython",
    "version": 2
   },
   "file_extension": ".py",
   "mimetype": "text/x-python",
   "name": "python",
   "nbconvert_exporter": "python",
   "pygments_lexer": "ipython2",
   "version": "2.7.11"
  }
 },
 "nbformat": 4,
 "nbformat_minor": 0
}
