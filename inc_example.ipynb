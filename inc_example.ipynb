{
 "cells": [
  {
   "cell_type": "code",
   "execution_count": 14,
   "metadata": {
    "collapsed": false
   },
   "outputs": [
    {
     "name": "stdout",
     "output_type": "stream",
     "text": [
      "Solution: 0.128999999999\n",
      "Optimal var\n",
      "[[  2.50000000e-01]\n",
      " [  5.04660268e-12]\n",
      " [  1.50000000e-01]\n",
      " [  6.00000000e-01]]\n"
     ]
    }
   ],
   "source": [
    "import cvxpy as cvx\n",
    "import numpy as np\n",
    "\n",
    "x = cvx.Variable(4)\n",
    "A = np.matrix([[-0.75, -0.75, 0.25, 0.25],\n",
    "               [-0.6,   0.4, -0.6,  0.4 ],\n",
    "               [ 0.0,   0.0, -0.9,  0.01]])\n",
    "violation = A * x\n",
    "obj = cvx.Minimize(cvx.norm(violation, 1))\n",
    "constraints = [cvx.sum_entries(x) == 1, 0 <= x, x <= 1]\n",
    "prob = cvx.Problem(obj, constraints)\n",
    "print \"Solution:\", prob.solve()\n",
    "print \"Optimal var\"\n",
    "print x.value"
   ]
  },
  {
   "cell_type": "code",
   "execution_count": null,
   "metadata": {
    "collapsed": true
   },
   "outputs": [],
   "source": []
  }
 ],
 "metadata": {
  "kernelspec": {
   "display_name": "Python 2",
   "language": "python",
   "name": "python2"
  },
  "language_info": {
   "codemirror_mode": {
    "name": "ipython",
    "version": 2
   },
   "file_extension": ".py",
   "mimetype": "text/x-python",
   "name": "python",
   "nbconvert_exporter": "python",
   "pygments_lexer": "ipython2",
   "version": "2.7.11"
  }
 },
 "nbformat": 4,
 "nbformat_minor": 0
}
