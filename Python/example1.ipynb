{
 "cells": [
  {
   "cell_type": "code",
   "execution_count": 2,
   "metadata": {
    "collapsed": false
   },
   "outputs": [
    {
     "name": "stdout",
     "output_type": "stream",
     "text": [
      "     pcost       dcost       gap    pres   dres\n",
      " 0:  1.0780e+02 -7.6366e+02  9e+02  1e-16  4e+01\n",
      " 1:  9.3245e+01  9.7637e+00  8e+01  2e-16  3e+00\n",
      " 2:  6.7311e+01  3.2553e+01  3e+01  2e-16  1e+00\n",
      " 3:  2.6071e+01  1.5068e+01  1e+01  4e-17  7e-01\n",
      " 4:  3.7092e+01  2.3152e+01  1e+01  6e-17  4e-01\n",
      " 5:  2.5352e+01  1.8652e+01  7e+00  3e-17  4e-16\n",
      " 6:  2.0062e+01  1.9974e+01  9e-02  9e-17  2e-16\n",
      " 7:  2.0001e+01  2.0000e+01  9e-04  2e-16  2e-16\n",
      " 8:  2.0000e+01  2.0000e+01  9e-06  1e-16  4e-16\n",
      "Optimal solution found.\n",
      "[ 7.13e-07]\n",
      "[ 5.00e+00]\n",
      "\n",
      "20.0000061731\n"
     ]
    }
   ],
   "source": [
    "import numpy\n",
    "import cvxopt\n",
    "from cvxopt import matrix\n",
    "from cvxopt import solvers\n",
    "\n",
    "P = matrix([[1.0, 0.0], [0.0, 0.0]])\n",
    "q = matrix([3.0, 4.0])\n",
    "G = matrix([[-1.0, 0.0, -1.0, 2.0, 3.0], [0.0, -1.0, -3.0, 5.0, 4.0]])\n",
    "h = matrix([0.0, 0.0, -15.0, 100.0, 80.0])\n",
    "\n",
    "sol = solvers.qp(P,q,G,h)\n",
    "\n",
    "print sol['x']\n",
    "print sol['primal objective']"
   ]
  },
  {
   "cell_type": "code",
   "execution_count": null,
   "metadata": {
    "collapsed": true
   },
   "outputs": [],
   "source": []
  }
 ],
 "metadata": {
  "kernelspec": {
   "display_name": "Python 2",
   "language": "python",
   "name": "python2"
  },
  "language_info": {
   "codemirror_mode": {
    "name": "ipython",
    "version": 2
   },
   "file_extension": ".py",
   "mimetype": "text/x-python",
   "name": "python",
   "nbconvert_exporter": "python",
   "pygments_lexer": "ipython2",
   "version": "2.7.11"
  }
 },
 "nbformat": 4,
 "nbformat_minor": 0
}
