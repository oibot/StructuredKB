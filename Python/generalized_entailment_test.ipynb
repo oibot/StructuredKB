{
 "cells": [
  {
   "cell_type": "markdown",
   "metadata": {},
   "source": [
    "# Test GeneralizedEntailment Example"
   ]
  },
  {
   "cell_type": "markdown",
   "metadata": {},
   "source": [
    "The knowledgebase under consideration:"
   ]
  },
  {
   "cell_type": "code",
   "execution_count": 1,
   "metadata": {
    "collapsed": false
   },
   "outputs": [],
   "source": [
    "from utils import *\n",
    "\n",
    "kb = [Rule(\"\", \"A\", 0.8), \n",
    "      Rule(\"\", \"B\", 0.6), \n",
    "      Rule(\"A\", \"B\", 0.9)]"
   ]
  },
  {
   "cell_type": "markdown",
   "metadata": {},
   "source": [
    "Set up the constraint matrix"
   ]
  },
  {
   "cell_type": "code",
   "execution_count": 2,
   "metadata": {
    "collapsed": false
   },
   "outputs": [
    {
     "name": "stdout",
     "output_type": "stream",
     "text": [
      "[[ 0.2  0.2 -0.8 -0.8]\n",
      " [ 0.4 -0.6  0.4 -0.6]\n",
      " [ 0.1 -0.9  0.   0. ]]\n"
     ]
    }
   ],
   "source": [
    "cm = constraints_matrix(kb)\n",
    "print cm"
   ]
  },
  {
   "cell_type": "markdown",
   "metadata": {},
   "source": [
    "Generate worlds for signatur"
   ]
  },
  {
   "cell_type": "code",
   "execution_count": 3,
   "metadata": {
    "collapsed": false
   },
   "outputs": [
    {
     "name": "stdout",
     "output_type": "stream",
     "text": [
      "[{'A': True, 'B': True}, {'A': True, 'B': False}, {'A': False, 'B': True}, {'A': False, 'B': False}]\n"
     ]
    }
   ],
   "source": [
    "ws = worlds(signatur(kb))\n",
    "print ws"
   ]
  },
  {
   "cell_type": "markdown",
   "metadata": {},
   "source": [
    "First step is to generate the violation vector.\n",
    "\n",
    "$$ \\min_p ||Ap|| \\\\\n",
    "    \\text{s.t.} \\sum_i p_i = 1$$\n",
    "    \n",
    " Begin with the Euclidean-norm:"
   ]
  },
  {
   "cell_type": "code",
   "execution_count": 4,
   "metadata": {
    "collapsed": false
   },
   "outputs": [
    {
     "name": "stdout",
     "output_type": "stream",
     "text": [
      "Solution:  0.0715859983384\n",
      "Probabilities:\n",
      "[[  6.42704641e-01]\n",
      " [  1.18861189e-01]\n",
      " [  4.39367699e-12]\n",
      " [  2.38434170e-01]]\n",
      "Violation vector:\n",
      "[[-0.03843417]\n",
      " [ 0.04270464]\n",
      " [-0.04270461]]\n"
     ]
    }
   ],
   "source": [
    "from cvxpy import *\n",
    "\n",
    "ps = Variable(len(ws))\n",
    "obj = Minimize(norm(cm*ps))\n",
    "cons = [0 <= ps, ps <= 1, sum_entries(ps) == 1]\n",
    "prob = Problem(obj, cons)\n",
    "\n",
    "vioval2 = prob.solve()\n",
    "print \"Solution: \", vioval2\n",
    "print \"Probabilities:\"\n",
    "print ps.value\n",
    "\n",
    "vio2 = cm*ps.value\n",
    "\n",
    "print \"Violation vector:\"\n",
    "print vio2"
   ]
  },
  {
   "cell_type": "markdown",
   "metadata": {},
   "source": [
    "And the Manhatten-norm"
   ]
  },
  {
   "cell_type": "code",
   "execution_count": 5,
   "metadata": {
    "collapsed": false
   },
   "outputs": [
    {
     "name": "stdout",
     "output_type": "stream",
     "text": [
      "Solution: 0.119999999999\n",
      "Status: optimal\n",
      "Probabilities:\n",
      "[[  6.36666998e-01]\n",
      " [  1.63333002e-01]\n",
      " [  3.80067874e-12]\n",
      " [  2.00000000e-01]]\n",
      "Violation vector:\n",
      "[[ -1.43246526e-11]\n",
      " [  3.66669981e-02]\n",
      " [ -8.33330019e-02]]\n"
     ]
    }
   ],
   "source": [
    "obj = Minimize(norm(cm*ps, 1))\n",
    "prob = Problem(obj, cons)\n",
    "\n",
    "vioval1 = prob.solve()\n",
    "print \"Solution:\", vioval1\n",
    "print \"Status:\", prob.status\n",
    "print \"Probabilities:\"\n",
    "print ps.value\n",
    "\n",
    "vio1 = cm*ps.value\n",
    "print \"Violation vector:\"\n",
    "print vio1"
   ]
  },
  {
   "cell_type": "markdown",
   "metadata": {},
   "source": [
    "And the Maximum-norm"
   ]
  },
  {
   "cell_type": "code",
   "execution_count": 6,
   "metadata": {
    "collapsed": false
   },
   "outputs": [
    {
     "name": "stdout",
     "output_type": "stream",
     "text": [
      "Solution: 0.0413793103138\n",
      "Status: optimal\n",
      "Probabilities:\n",
      "[[  6.41379310e-01]\n",
      " [  1.17241379e-01]\n",
      " [ -3.53908138e-11]\n",
      " [  2.41379310e-01]]\n",
      "Violation vector:\n",
      "[[-0.04137931]\n",
      " [ 0.04137931]\n",
      " [-0.04137931]]\n",
      "[[ 0.04137931]\n",
      " [-0.04137931]\n",
      " [ 0.04137931]]\n"
     ]
    }
   ],
   "source": [
    "obj = Minimize(norm(cm*ps, \"inf\"))\n",
    "prob = Problem(obj, cons)\n",
    "\n",
    "viovalinf = prob.solve()\n",
    "print \"Solution:\", viovalinf\n",
    "print \"Status:\", prob.status\n",
    "print \"Probabilities:\"\n",
    "print ps.value\n",
    "\n",
    "vioInf = cm*ps.value\n",
    "print \"Violation vector:\"\n",
    "print vioInf\n",
    "print -1*vioInf"
   ]
  },
  {
   "cell_type": "markdown",
   "metadata": {},
   "source": [
    "Now query P(a) with the 2-Norm, 1-Norm, and Inf-Norm and the violation vector calculated by the 2-norm"
   ]
  },
  {
   "cell_type": "code",
   "execution_count": 7,
   "metadata": {
    "collapsed": false
   },
   "outputs": [
    {
     "name": "stdout",
     "output_type": "stream",
     "text": [
      "[1 1 0 0]\n",
      "[0 0 1 1]\n"
     ]
    }
   ],
   "source": [
    "vm = verifying_matrix(ws, kb[0])\n",
    "fm = falsifying_matrix(ws, kb[0])\n",
    "print vm\n",
    "print fm"
   ]
  },
  {
   "cell_type": "markdown",
   "metadata": {},
   "source": [
    "First the 2-Norm"
   ]
  },
  {
   "cell_type": "code",
   "execution_count": 14,
   "metadata": {
    "collapsed": false
   },
   "outputs": [
    {
     "name": "stdout",
     "output_type": "stream",
     "text": [
      "Status lower: optimal\n",
      "Status upper: optimal\n",
      "(0.7615658300418782, 0.7615658300449593)\n",
      "test query function\n",
      "P(A)\n",
      "0.7615655714540518, 0.761565571465614\n",
      "P(B)\n",
      "0.6427047119612715, 0.6427047119702923\n",
      "P(B|A)\n",
      "0.8439256395511517, 0.8439256395573197\n"
     ]
    }
   ],
   "source": [
    "x = Variable(len(ws))\n",
    "t = Variable()\n",
    "\n",
    "lower = Minimize(vm*x)\n",
    "cons = [x >= 0, t >= 0,\n",
    "        cm*x == t*vio2,\n",
    "        sum_entries(x) == t,\n",
    "        (vm + fm)*x == 1]\n",
    "prob = Problem(lower, cons)\n",
    "\n",
    "l = prob.solve()\n",
    "print \"Status lower:\", prob.status\n",
    "\n",
    "upper = Maximize(vm*x)\n",
    "prob = Problem(upper, cons)\n",
    "\n",
    "u = prob.solve()\n",
    "print \"Status upper:\", prob.status\n",
    "\n",
    "print (l, u)\n",
    "\n",
    "# test util function\n",
    "print \"test query function\"\n",
    "print \"P(A)\"\n",
    "l, u = query(kb[0], ws, kb)\n",
    "print \"%r, %r\" % (l, u)\n",
    "print \"P(B)\"\n",
    "l, u = query(kb[1], ws, kb)\n",
    "print \"%r, %r\" % (l, u)\n",
    "print \"P(B|A)\"\n",
    "l, u = query(kb[2], ws, kb)\n",
    "print \"%r, %r\" % (l, u)"
   ]
  },
  {
   "cell_type": "markdown",
   "metadata": {},
   "source": [
    "Now the 1-Norm"
   ]
  },
  {
   "cell_type": "code",
   "execution_count": 16,
   "metadata": {
    "collapsed": false
   },
   "outputs": [
    {
     "name": "stdout",
     "output_type": "stream",
     "text": [
      "Status lower: optimal\n",
      "Status upper: optimal\n",
      "(0.7999999996013246, 0.7999999999968094)\n",
      "test query function\n",
      "P(A)\n",
      "0.7999999996087174, 0.7999999999963826\n",
      "P(B)\n",
      "0.6000000000001614, 0.7200000000062097\n",
      "P(B|A)\n",
      "0.7500000000068133, 0.9000000000801981\n"
     ]
    }
   ],
   "source": [
    "x = Variable(len(ws))\n",
    "y = Variable(len(kb))\n",
    "t = Variable()\n",
    "\n",
    "cons = [x >= 0, y >= 0, t >= 0,\n",
    "        -1*y <= cm*x, cm*x <= y,\n",
    "        sum_entries(y) == t*vioval1,\n",
    "        sum_entries(x) == t,\n",
    "        (vm + fm)*x == 1]\n",
    "lower = Minimize(vm*x)\n",
    "prob = Problem(lower, cons)\n",
    "\n",
    "l = prob.solve()\n",
    "print \"Status lower:\", prob.status\n",
    "\n",
    "upper = Maximize(vm*x)\n",
    "prob = Problem(upper, cons)\n",
    "\n",
    "u = prob.solve()\n",
    "print \"Status upper:\", prob.status\n",
    "\n",
    "print (l, u)\n",
    "\n",
    "# test function\n",
    "print \"test query function\"\n",
    "print \"P(A)\"\n",
    "l, u = query(kb[0], ws, kb, norm=\"1\")\n",
    "print \"%r, %r\" % (l, u)\n",
    "print \"P(B)\"\n",
    "l, u = query(kb[1], ws, kb, norm=\"1\")\n",
    "print \"%r, %r\" % (l, u)\n",
    "print \"P(B|A)\"\n",
    "l, u = query(kb[2], ws, kb, norm=\"1\")\n",
    "print \"%r, %r\" % (l, u)"
   ]
  },
  {
   "cell_type": "markdown",
   "metadata": {},
   "source": [
    "Now the Inf-Norm"
   ]
  },
  {
   "cell_type": "code",
   "execution_count": 17,
   "metadata": {
    "collapsed": false
   },
   "outputs": [
    {
     "name": "stdout",
     "output_type": "stream",
     "text": [
      "Status lower: optimal\n",
      "Status upper: optimal\n",
      "(0.7586206896831538, 0.7586206896998027)\n",
      "test query function\n",
      "P(A)\n",
      "0.7586206896287138, 0.758620689753735\n",
      "P(B)\n",
      "0.6413793102260176, 0.641379310366378\n",
      "P(B|A)\n",
      "0.8454545454275514, 0.845454545476464\n"
     ]
    }
   ],
   "source": [
    "x = Variable(len(ws))\n",
    "t = Variable()\n",
    "\n",
    "cons = [x >= 0, t >= 0,\n",
    "        -t*viovalinf <= cm*x, cm*x <= t*viovalinf,\n",
    "        sum_entries(x) == t,\n",
    "        (vm+fm)*x == 1]\n",
    "lower = Minimize(vm*x)\n",
    "prob = Problem(lower,cons)\n",
    "\n",
    "l = prob.solve()\n",
    "print \"Status lower:\", prob.status\n",
    "\n",
    "upper = Maximize(vm*x)\n",
    "prob = Problem(upper, cons)\n",
    "\n",
    "u = prob.solve()\n",
    "print \"Status upper:\", prob.status\n",
    "\n",
    "print (l,u)\n",
    "\n",
    "# test function\n",
    "print \"test query function\"\n",
    "print \"P(A)\"\n",
    "l, u = query(kb[0], ws, kb, norm=\"inf\")\n",
    "print \"%r, %r\" % (l, u)\n",
    "print \"P(B)\"\n",
    "l, u = query(kb[1], ws, kb, norm=\"inf\")\n",
    "print \"%r, %r\" % (l, u)\n",
    "print \"P(B|A)\"\n",
    "l, u = query(kb[2], ws, kb, norm=\"inf\")\n",
    "print \"%r, %r\" % (l, u)"
   ]
  },
  {
   "cell_type": "code",
   "execution_count": null,
   "metadata": {
    "collapsed": true
   },
   "outputs": [],
   "source": []
  }
 ],
 "metadata": {
  "kernelspec": {
   "display_name": "Python 2",
   "language": "python",
   "name": "python2"
  },
  "language_info": {
   "codemirror_mode": {
    "name": "ipython",
    "version": 2
   },
   "file_extension": ".py",
   "mimetype": "text/x-python",
   "name": "python",
   "nbconvert_exporter": "python",
   "pygments_lexer": "ipython2",
   "version": "2.7.11"
  }
 },
 "nbformat": 4,
 "nbformat_minor": 0
}
