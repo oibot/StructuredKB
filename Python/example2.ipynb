{
 "cells": [
  {
   "cell_type": "code",
   "execution_count": 5,
   "metadata": {
    "collapsed": false
   },
   "outputs": [
    {
     "name": "stdout",
     "output_type": "stream",
     "text": [
      "status: optimal\n",
      "optimal value: 3.99999995999\n",
      "optimal var: 1.49999999866 -0.499999998663\n"
     ]
    }
   ],
   "source": [
    "from cvxpy import *\n",
    "\n",
    "x = Variable()\n",
    "y = Variable()\n",
    "\n",
    "constraints = [x + y == 1, x - y >= 2]\n",
    "\n",
    "obj = Minimize(square(x - y))\n",
    "\n",
    "prob = Problem(obj, constraints)\n",
    "prob.solve()\n",
    "print \"status:\", prob.status\n",
    "print \"optimal value:\", prob.value\n",
    "print \"optimal var:\", x.value, y.value"
   ]
  },
  {
   "cell_type": "code",
   "execution_count": 7,
   "metadata": {
    "collapsed": false,
    "scrolled": false
   },
   "outputs": [
    {
     "name": "stdout",
     "output_type": "stream",
     "text": [
      "Optimal value: 4.14133859576\n",
      "Optimal var\n",
      "[[  1.28389215e-10]\n",
      " [  7.03159549e-10]\n",
      " [  1.34641800e-01]\n",
      " [  1.24973525e-01]\n",
      " [  2.85181949e-10]]\n"
     ]
    }
   ],
   "source": [
    "import numpy\n",
    "\n",
    "m = 10\n",
    "n = 5\n",
    "numpy.random.seed(1)\n",
    "A = numpy.random.randn(m,n)\n",
    "b = numpy.random.randn(m, 1)\n",
    "\n",
    "x = Variable(n)\n",
    "objective = Minimize(sum_entries(square(A*x - b)))\n",
    "constraints = [0 <= x, x <= 1]\n",
    "prob = Problem(objective, constraints)\n",
    "\n",
    "print \"Optimal value:\", prob.solve()\n",
    "print \"Optimal var\"\n",
    "print x.value"
   ]
  },
  {
   "cell_type": "code",
   "execution_count": null,
   "metadata": {
    "collapsed": true
   },
   "outputs": [],
   "source": []
  }
 ],
 "metadata": {
  "kernelspec": {
   "display_name": "Python 2",
   "language": "python",
   "name": "python2"
  },
  "language_info": {
   "codemirror_mode": {
    "name": "ipython",
    "version": 2
   },
   "file_extension": ".py",
   "mimetype": "text/x-python",
   "name": "python",
   "nbconvert_exporter": "python",
   "pygments_lexer": "ipython2",
   "version": "2.7.11"
  }
 },
 "nbformat": 4,
 "nbformat_minor": 0
}
