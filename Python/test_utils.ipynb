{
 "cells": [
  {
   "cell_type": "code",
   "execution_count": 1,
   "metadata": {
    "collapsed": false
   },
   "outputs": [
    {
     "name": "stdout",
     "output_type": "stream",
     "text": [
      "[{'A': True, 'B': True}, {'A': True, 'B': False}, {'A': False, 'B': True}, {'A': False, 'B': False}]\n"
     ]
    }
   ],
   "source": [
    "from utils import *\n",
    "\n",
    "sig = list(\"AB\")\n",
    "ws = worlds(sig)\n",
    "print ws"
   ]
  },
  {
   "cell_type": "code",
   "execution_count": 2,
   "metadata": {
    "collapsed": false
   },
   "outputs": [
    {
     "name": "stdout",
     "output_type": "stream",
     "text": [
      "Rule(premise='A', conclusion='B', probability=0.1)\n",
      "A\n"
     ]
    }
   ],
   "source": [
    "r = Rule(\"A\", \"B\", 0.1)\n",
    "print r\n",
    "print r[0]"
   ]
  },
  {
   "cell_type": "code",
   "execution_count": 3,
   "metadata": {
    "collapsed": false
   },
   "outputs": [
    {
     "name": "stdout",
     "output_type": "stream",
     "text": [
      "World:  {'A': True, 'B': True}\n",
      "Satisfies 'A'?:  True\n"
     ]
    }
   ],
   "source": [
    "aworld = ws[0]\n",
    "print \"World: \", aworld\n",
    "print \"Satisfies 'A'?: \", satisfies(aworld, \"A\")"
   ]
  },
  {
   "cell_type": "code",
   "execution_count": 4,
   "metadata": {
    "collapsed": false
   },
   "outputs": [
    {
     "name": "stdout",
     "output_type": "stream",
     "text": [
      "set(['A', 'C', 'B'])\n",
      "set(['A', 'C', 'B'])\n",
      "set(['A', 'C', 'B', 'D'])\n",
      "set(['A', 'C', 'B', 'Z', 'D'])\n"
     ]
    }
   ],
   "source": [
    "s = set(\"ABC\")\n",
    "print s\n",
    "s.add('A')\n",
    "print s\n",
    "s.add('D')\n",
    "print s\n",
    "s.update(['A','Z'])\n",
    "print s\n"
   ]
  },
  {
   "cell_type": "code",
   "execution_count": 5,
   "metadata": {
    "collapsed": false
   },
   "outputs": [
    {
     "name": "stdout",
     "output_type": "stream",
     "text": [
      "set(['A', 'B'])\n"
     ]
    }
   ],
   "source": [
    "sigkb = signatur([Rule(\"A\", \"B\", 0.1)])\n",
    "print sigkb"
   ]
  },
  {
   "cell_type": "code",
   "execution_count": 6,
   "metadata": {
    "collapsed": false
   },
   "outputs": [
    {
     "name": "stdout",
     "output_type": "stream",
     "text": [
      "[[ 0.9 -0.1  0.   0. ]]\n"
     ]
    }
   ],
   "source": [
    "print constraints_matrix([r])"
   ]
  },
  {
   "cell_type": "code",
   "execution_count": 7,
   "metadata": {
    "collapsed": false
   },
   "outputs": [
    {
     "name": "stdout",
     "output_type": "stream",
     "text": [
      "False\n"
     ]
    }
   ],
   "source": [
    "print bool(\"\")"
   ]
  },
  {
   "cell_type": "code",
   "execution_count": 8,
   "metadata": {
    "collapsed": false
   },
   "outputs": [
    {
     "name": "stdout",
     "output_type": "stream",
     "text": [
      "[[ 0.2  0.2 -0.8 -0.8]\n",
      " [ 0.4 -0.6  0.4 -0.6]\n",
      " [ 0.1 -0.9  0.   0. ]]\n",
      "set(['A', 'B'])\n"
     ]
    }
   ],
   "source": [
    "kb = [Rule(\"\", \"A\", 0.8), Rule(\"\", \"B\", 0.6), Rule(\"A\", \"B\", 0.9)]\n",
    "print constraints_matrix(kb)\n",
    "print signatur(kb)"
   ]
  },
  {
   "cell_type": "code",
   "execution_count": null,
   "metadata": {
    "collapsed": true
   },
   "outputs": [],
   "source": []
  }
 ],
 "metadata": {
  "kernelspec": {
   "display_name": "Python 2",
   "language": "python",
   "name": "python2"
  },
  "language_info": {
   "codemirror_mode": {
    "name": "ipython",
    "version": 2
   },
   "file_extension": ".py",
   "mimetype": "text/x-python",
   "name": "python",
   "nbconvert_exporter": "python",
   "pygments_lexer": "ipython2",
   "version": "2.7.11"
  }
 },
 "nbformat": 4,
 "nbformat_minor": 0
}
