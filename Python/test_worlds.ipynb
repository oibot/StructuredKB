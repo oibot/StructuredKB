{
 "cells": [
  {
   "cell_type": "code",
   "execution_count": 1,
   "metadata": {
    "collapsed": false
   },
   "outputs": [
    {
     "name": "stdout",
     "output_type": "stream",
     "text": [
      "10 loops, best of 3: 14.9 µs per loop\n"
     ]
    }
   ],
   "source": [
    "from structuredKB import *\n",
    "from sympy import *\n",
    "\n",
    "a, b, c = symbols('a,b,c')\n",
    "\n",
    "%timeit -n10 worlds([a,b,c])"
   ]
  },
  {
   "cell_type": "code",
   "execution_count": 2,
   "metadata": {
    "collapsed": false
   },
   "outputs": [
    {
     "name": "stdout",
     "output_type": "stream",
     "text": [
      "[{c: True, b: True, a: True}, {c: True, b: True, a: False}, {c: True, b: False, a: True}, {c: True, b: False, a: False}, {c: False, b: True, a: True}, {c: False, b: True, a: False}, {c: False, b: False, a: True}, {c: False, b: False, a: False}]\n"
     ]
    }
   ],
   "source": [
    "print worlds(set([a,b,c]))"
   ]
  },
  {
   "cell_type": "code",
   "execution_count": 3,
   "metadata": {
    "collapsed": false
   },
   "outputs": [
    {
     "name": "stdout",
     "output_type": "stream",
     "text": [
      "[{c: True, b: True, a: True}, {c: False, b: True, a: True}, {c: True, b: True, a: False}, {c: False, b: True, a: False}, {c: True, b: False, a: False}, {c: False, b: False, a: False}]\n"
     ]
    }
   ],
   "source": [
    "r = Rule(a, b, 1.0)\n",
    "print worlds([a,b,c], [r])"
   ]
  },
  {
   "cell_type": "code",
   "execution_count": null,
   "metadata": {
    "collapsed": true
   },
   "outputs": [],
   "source": []
  }
 ],
 "metadata": {
  "kernelspec": {
   "display_name": "Python 2",
   "language": "python",
   "name": "python2"
  },
  "language_info": {
   "codemirror_mode": {
    "name": "ipython",
    "version": 2
   },
   "file_extension": ".py",
   "mimetype": "text/x-python",
   "name": "python",
   "nbconvert_exporter": "python",
   "pygments_lexer": "ipython2",
   "version": "2.7.11"
  }
 },
 "nbformat": 4,
 "nbformat_minor": 0
}
