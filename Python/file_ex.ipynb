{
 "cells": [
  {
   "cell_type": "code",
   "execution_count": 9,
   "metadata": {
    "collapsed": false
   },
   "outputs": [
    {
     "name": "stdout",
     "output_type": "stream",
     "text": [
      "KB1:\n",
      "[Rule(premise=True, conclusion=ga_af1, probability=0.0), Rule(premise=True, conclusion=ga_af2, probability=0.0), Rule(premise=True, conclusion=ga_bf1, probability=0.0), Rule(premise=True, conclusion=ga_bf2, probability=0.0), Rule(premise=True, conclusion=b_b, probability=0.05), Rule(premise=True, conclusion=b_a, probability=0.05)]\n",
      "KB2:\n",
      "[Rule(premise=e_a, conclusion=ga_af1, probability=0.5), Rule(premise=e_a, conclusion=ga_af2, probability=0.5), Rule(premise=e_b, conclusion=ga_bf1, probability=0.5), Rule(premise=e_b, conclusion=ga_bf2, probability=0.5), Rule(premise=e_a, conclusion=b_a, probability=0.01), Rule(premise=e_b, conclusion=b_b, probability=0.01)]\n",
      "KB3:\n",
      "[Rule(premise=c_f1, conclusion=ga_af1, probability=0.0), Rule(premise=c_f2, conclusion=ga_af2, probability=0.0), Rule(premise=c_f1, conclusion=ga_bf1, probability=0.0), Rule(premise=c_f2, conclusion=ga_bf2, probability=0.0)]\n",
      "KB4:\n",
      "[Rule(premise=ex_a, conclusion=ga_af1, probability=0.7), Rule(premise=ex_a, conclusion=ga_af2, probability=0.7), Rule(premise=ex_b, conclusion=ga_bf1, probability=0.7), Rule(premise=ex_b, conclusion=ga_bf2, probability=0.7), Rule(premise=ex_b, conclusion=b_b, probability=0.001), Rule(premise=ex_a, conclusion=b_a, probability=0.001)]\n",
      "KB5:\n",
      "[Rule(premise=True, conclusion=ex_a, probability=1.0), Rule(premise=True, conclusion=e_b, probability=1.0), Rule(premise=True, conclusion=c_f1, probability=1.0)]\n",
      "IC:\n",
      "[Rule(premise=ex_a, conclusion=e_a, probability=1.0), Rule(premise=ex_b, conclusion=e_b, probability=1.0), Rule(premise=b_a, conclusion=ga_af1, probability=0.0), Rule(premise=b_a, conclusion=ga_af2, probability=0.0), Rule(premise=b_b, conclusion=ga_bf1, probability=0.0), Rule(premise=b_b, conclusion=ga_bf2, probability=0.0)]\n"
     ]
    }
   ],
   "source": [
    "from structuredKB import *\n",
    "from sympy import *\n",
    "\n",
    "sym = (\"ga_af1, ga_af2, ga_bf1, ga_bf2,\"\n",
    "        \"b_a, b_b,\"\n",
    "        \"e_a, e_b,\"\n",
    "        \"ex_a, ex_b,\"\n",
    "        \"c_f1, c_f2\")\n",
    "        \n",
    "signature = symbols(sym)\n",
    "\n",
    "exec_alice = signature[8]\n",
    "exec_bob = signature[9]\n",
    "employee_alice = signature[6]\n",
    "employee_bob = signature2[7]\n",
    "blacklisted_alice = signature[4]\n",
    "blacklisted_bob = signature[5]\n",
    "access_alice_f1 = signature[0]\n",
    "access_alice_f2 = signature[1]\n",
    "access_bob_f1 = signature[2]\n",
    "access_bob_f2 = signature[3]\n",
    "confidential_f1 = signature[10]\n",
    "confidential_f2 = signature[11]\n",
    "\n",
    "r1 = Rule(exec_alice, employee_alice, 1.0)\n",
    "r2 = Rule(exec_bob, employee_bob, 1.0)\n",
    "r3 = Rule(blacklisted_alice, access_alice_f1, 0.0)\n",
    "r4 = Rule(blacklisted_alice, access_alice_f2, 0.0)\n",
    "r5 = Rule(blacklisted_bob, access_bob_f1, 0.0)\n",
    "r6 = Rule(blacklisted_bob, access_bob_f2, 0.0)\n",
    "ic = [r1, r2, r3, r4, r5, r6]\n",
    "\n",
    "r1 = Rule(true, access_alice_f1, 0.0)\n",
    "r2 = Rule(true, access_alice_f2, 0.0)\n",
    "r3 = Rule(true, access_bob_f1, 0.0)\n",
    "r4 = Rule(true, access_bob_f2, 0.0)\n",
    "r5 = Rule(true, blacklisted_bob, 0.05)\n",
    "r6 = Rule(true, blacklisted_alice, 0.05)\n",
    "kb1 = [r1, r2, r3, r4, r5, r6]\n",
    "\n",
    "r7 = Rule(employee_alice, access_alice_f1, 0.5)\n",
    "r8 = Rule(employee_alice, access_alice_f2, 0.5)\n",
    "r9 = Rule(employee_bob, access_bob_f1, 0.5)\n",
    "r10 = Rule(employee_bob, access_bob_f2, 0.5)\n",
    "r11 = Rule(employee_alice, blacklisted_alice, 0.01)\n",
    "r12 = Rule(employee_bob, blacklisted_bob, 0.01)\n",
    "kb2 = [r7, r8, r9, r10, r11, r12]\n",
    "\n",
    "r13 = Rule(confidential_f1, access_alice_f1, 0.0)\n",
    "r14 = Rule(confidential_f2, access_alice_f2, 0.0)\n",
    "r15 = Rule(confidential_f1, access_bob_f1, 0.0)\n",
    "r16 = Rule(confidential_f2, access_bob_f2, 0.0)\n",
    "kb3 = [r13, r14, r15, r16]\n",
    "\n",
    "r17 = Rule(exec_alice, access_alice_f1, 0.7)\n",
    "r18 = Rule(exec_alice, access_alice_f2, 0.7)\n",
    "r19 = Rule(exec_bob, access_bob_f1, 0.7)\n",
    "r20 = Rule(exec_bob, access_bob_f2, 0.7)\n",
    "r21 = Rule(exec_bob, blacklisted_bob, 0.001)\n",
    "r22 = Rule(exec_alice, blacklisted_alice, 0.001)\n",
    "kb4 = [r17, r18, r19, r20, r21, r22]\n",
    "\n",
    "r23 = Rule(true, exec_alice, 1.0)\n",
    "r24 = Rule(true, employee_bob, 1.0)\n",
    "r25 = Rule(true, confidential_f1, 1.0)\n",
    "kb5 = [r23, r24, r25]\n",
    "\n",
    "print \"KB1:\"\n",
    "print kb1\n",
    "print \"KB2:\"\n",
    "print kb2\n",
    "print \"KB3:\"\n",
    "print kb3\n",
    "print \"KB4:\"\n",
    "print kb4\n",
    "print \"KB5:\"\n",
    "print kb5\n",
    "print \"IC:\"\n",
    "print ic\n",
    "\n",
    "KB = [kb1, kb2, kb3, kb4, kb5]"
   ]
  },
  {
   "cell_type": "code",
   "execution_count": 10,
   "metadata": {
    "collapsed": false
   },
   "outputs": [
    {
     "name": "stdout",
     "output_type": "stream",
     "text": [
      "Rule(premise=True, conclusion=ga_af1, probability=0.0)\n"
     ]
    }
   ],
   "source": [
    "q = Rule(true, access_alice_f1, 0.0)\n",
    "wf = lambda x: 2*x\n",
    "print q"
   ]
  },
  {
   "cell_type": "code",
   "execution_count": 11,
   "metadata": {
    "collapsed": false
   },
   "outputs": [
    {
     "ename": "TypeError",
     "evalue": "'bool' object is not iterable",
     "output_type": "error",
     "traceback": [
      "\u001b[0;31m---------------------------------------------------------------------------\u001b[0m",
      "\u001b[0;31mTypeError\u001b[0m                                 Traceback (most recent call last)",
      "\u001b[0;32m<ipython-input-11-f94bce1dc144>\u001b[0m in \u001b[0;36m<module>\u001b[0;34m()\u001b[0m\n\u001b[0;32m----> 1\u001b[0;31m \u001b[0ml\u001b[0m\u001b[0;34m,\u001b[0m \u001b[0mu\u001b[0m \u001b[0;34m=\u001b[0m \u001b[0mquery\u001b[0m\u001b[0;34m(\u001b[0m\u001b[0mq\u001b[0m\u001b[0;34m,\u001b[0m \u001b[0mKB\u001b[0m\u001b[0;34m,\u001b[0m \u001b[0mic\u001b[0m\u001b[0;34m,\u001b[0m \u001b[0mwf\u001b[0m\u001b[0;34m)\u001b[0m\u001b[0;34m\u001b[0m\u001b[0m\n\u001b[0m",
      "\u001b[0;31mTypeError\u001b[0m: 'bool' object is not iterable"
     ]
    }
   ],
   "source": [
    "l, u = query(q, KB, ic, wf)"
   ]
  },
  {
   "cell_type": "code",
   "execution_count": null,
   "metadata": {
    "collapsed": true
   },
   "outputs": [],
   "source": []
  }
 ],
 "metadata": {
  "kernelspec": {
   "display_name": "Python 2",
   "language": "python",
   "name": "python2"
  },
  "language_info": {
   "codemirror_mode": {
    "name": "ipython",
    "version": 2
   },
   "file_extension": ".py",
   "mimetype": "text/x-python",
   "name": "python",
   "nbconvert_exporter": "python",
   "pygments_lexer": "ipython2",
   "version": "2.7.11"
  }
 },
 "nbformat": 4,
 "nbformat_minor": 0
}
