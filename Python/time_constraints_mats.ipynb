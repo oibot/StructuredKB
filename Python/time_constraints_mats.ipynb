{
 "cells": [
  {
   "cell_type": "code",
   "execution_count": 1,
   "metadata": {
    "collapsed": false
   },
   "outputs": [
    {
     "name": "stdout",
     "output_type": "stream",
     "text": [
      "['a', 'b', 'c', 'd', 'e', 'f', 'g', 'h']\n",
      "a,b,c,d,e,f,g,h\n"
     ]
    }
   ],
   "source": [
    "import string\n",
    "\n",
    "sarr = [c for c in string.lowercase[:8]]\n",
    "print sarr\n",
    "s = \",\".join(sarr)\n",
    "print s"
   ]
  },
  {
   "cell_type": "code",
   "execution_count": 2,
   "metadata": {
    "collapsed": false
   },
   "outputs": [
    {
     "name": "stdout",
     "output_type": "stream",
     "text": [
      "1 loops, best of 1: 1.14 ms per loop\n"
     ]
    }
   ],
   "source": [
    "import sympy as sym\n",
    "import structuredKB as st\n",
    "\n",
    "sig = sym.symbols(s)\n",
    "%timeit -r1 -n1 st.worlds(sig)\n",
    "ws = st.worlds(sig)"
   ]
  },
  {
   "cell_type": "code",
   "execution_count": 3,
   "metadata": {
    "collapsed": false,
    "scrolled": true
   },
   "outputs": [
    {
     "name": "stdout",
     "output_type": "stream",
     "text": [
      "1 loops, best of 1: 5.82 s per loop\n"
     ]
    }
   ],
   "source": [
    "r1 = st.Rule(sig[0], sig[1], .1)\n",
    "r2 = st.Rule(sig[0], sig[3], .2)\n",
    "r3 = st.Rule(sig[1], sig[3], .9)\n",
    "kb = [r1, r2, r3]\n",
    "%timeit -r1 -n1 st.constraints_matrices(ws, [kb, kb, kb, kb, kb], kb)\n",
    "IC, As = st.constraints_matrices(ws, [kb, kb, kb, kb, kb], kb)"
   ]
  },
  {
   "cell_type": "code",
   "execution_count": 4,
   "metadata": {
    "collapsed": false
   },
   "outputs": [
    {
     "name": "stdout",
     "output_type": "stream",
     "text": [
      "(3, 16)\n",
      "0\n"
     ]
    }
   ],
   "source": [
    "print IC.shape\n",
    "print len(As)"
   ]
  },
  {
   "cell_type": "code",
   "execution_count": 81,
   "metadata": {
    "collapsed": false
   },
   "outputs": [
    {
     "name": "stdout",
     "output_type": "stream",
     "text": [
      "10 loops, best of 10: 66.8 µs per loop\n"
     ]
    }
   ],
   "source": [
    "%timeit -r10 -n10 st.objMatrix(As, lambda x: 2*x)"
   ]
  },
  {
   "cell_type": "code",
   "execution_count": null,
   "metadata": {
    "collapsed": true
   },
   "outputs": [],
   "source": []
  }
 ],
 "metadata": {
  "kernelspec": {
   "display_name": "Python 2",
   "language": "python",
   "name": "python2"
  },
  "language_info": {
   "codemirror_mode": {
    "name": "ipython",
    "version": 2
   },
   "file_extension": ".py",
   "mimetype": "text/x-python",
   "name": "python",
   "nbconvert_exporter": "python",
   "pygments_lexer": "ipython2",
   "version": "2.7.11"
  }
 },
 "nbformat": 4,
 "nbformat_minor": 0
}
